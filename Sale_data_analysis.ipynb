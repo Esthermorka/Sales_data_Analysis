{
 "cells": [
  {
   "cell_type": "markdown",
   "id": "95ba3c70",
   "metadata": {},
   "source": [
    "# Overview\n",
    "      Each major branch of a supermarket located in 3 cities across the Nigeria recorded sales information for 3 months, to help the company understand sales trends and determine its growth, as the rise of supermarkets competition is seen. The data folder contains datasets from three different branches; Lagos, Abuja and Port-Harcourt. Each data file from the branches contains the same attribute information  "
   ]
  },
  {
   "cell_type": "markdown",
   "id": "0024850b",
   "metadata": {},
   "source": [
    "## Problem Statement\n",
    "- Which branch had the highest sales and revenue during the observed period, and how can the other branches improve their performance?\n",
    "\n",
    "- Are there any products that consistently underperform across all branches, and what can be done to improve their sales?\n",
    "\n",
    "- What are the peak sales periods, and how can the company optimize inventory management during these periods to prevent stockouts and improve sales?\n",
    "\n",
    "- Are there any demographic patterns in the sales data, such as certain products being more popular among certain genders, and how can the company leverage this information to better target its marketing efforts?\n",
    "\n",
    "\n",
    "- Are there any notable trends or patterns in customer ratings and feedback, and how can the company address any recurring issues or concerns to improve customer satisfaction?\n",
    "\n",
    "- Does the price of a product influence a customers buying habit"
   ]
  },
  {
   "cell_type": "markdown",
   "id": "4fc9bc53",
   "metadata": {},
   "source": [
    "## 1. Loading the Dataset\n",
    "    combining  the dataset from each branch (3 branches) into one dataset for easy analysis. "
   ]
  },
  {
   "cell_type": "code",
   "execution_count": 1,
   "id": "97508f3d",
   "metadata": {},
   "outputs": [
    {
     "data": {
      "text/plain": [
       "<Figure size 720x360 with 0 Axes>"
      ]
     },
     "metadata": {},
     "output_type": "display_data"
    }
   ],
   "source": [
    "#import relevant dependencies\n",
    "\n",
    "import pandas as pd\n",
    "import numpy as np \n",
    "import seaborn as sb \n",
    "import matplotlib.pyplot as plt \n",
    "\n",
    "import warnings\n",
    "warnings.filterwarnings('ignore')\n",
    "%matplotlib inline\n",
    "\n",
    "plt.figure(figsize=(10,5))\n",
    "\n",
    "\n",
    "from matplotlib import rcParams\n",
    "\n",
    "#figure size in inches\n",
    "rcParams ['figure.figsize'] = 10.7,5.27"
   ]
  },
  {
   "cell_type": "code",
   "execution_count": 2,
   "id": "56e12802",
   "metadata": {},
   "outputs": [],
   "source": [
    "lag_df = pd.read_csv('Lagos_Branch.csv')\n",
    "abj_df = pd.read_csv('Abuja_Branch.csv')\n",
    "ph_df = pd.read_csv('Port_Harcourt_Branch.csv')\n",
    "\n",
    "#Concating datasets from the three branches\n",
    "frame = [abj_df, lag_df, ph_df]\n",
    "all_stores_df = pd.concat(frame, sort=False)\n",
    "\n",
    "#Export to csv\n",
    "all_stores_df.to_csv('all_Branch.csv')\n"
   ]
  },
  {
   "cell_type": "code",
   "execution_count": 3,
   "id": "2031b053",
   "metadata": {},
   "outputs": [
    {
     "data": {
      "text/html": [
       "<div>\n",
       "<style scoped>\n",
       "    .dataframe tbody tr th:only-of-type {\n",
       "        vertical-align: middle;\n",
       "    }\n",
       "\n",
       "    .dataframe tbody tr th {\n",
       "        vertical-align: top;\n",
       "    }\n",
       "\n",
       "    .dataframe thead th {\n",
       "        text-align: right;\n",
       "    }\n",
       "</style>\n",
       "<table border=\"1\" class=\"dataframe\">\n",
       "  <thead>\n",
       "    <tr style=\"text-align: right;\">\n",
       "      <th></th>\n",
       "      <th>Unnamed: 0</th>\n",
       "      <th>Invoice ID</th>\n",
       "      <th>Branch</th>\n",
       "      <th>City</th>\n",
       "      <th>Customer type</th>\n",
       "      <th>Gender</th>\n",
       "      <th>Product line</th>\n",
       "      <th>Unit price</th>\n",
       "      <th>Quantity</th>\n",
       "      <th>Tax 5%</th>\n",
       "      <th>Total</th>\n",
       "      <th>Date</th>\n",
       "      <th>Time</th>\n",
       "      <th>Payment</th>\n",
       "      <th>cogs</th>\n",
       "      <th>gross margin percentage</th>\n",
       "      <th>gross income</th>\n",
       "      <th>Rating</th>\n",
       "    </tr>\n",
       "  </thead>\n",
       "  <tbody>\n",
       "    <tr>\n",
       "      <th>0</th>\n",
       "      <td>0</td>\n",
       "      <td>692-92-5582</td>\n",
       "      <td>B</td>\n",
       "      <td>Abuja</td>\n",
       "      <td>Member</td>\n",
       "      <td>Female</td>\n",
       "      <td>Food and beverages</td>\n",
       "      <td>19742.4</td>\n",
       "      <td>3</td>\n",
       "      <td>2961.36</td>\n",
       "      <td>62188.56</td>\n",
       "      <td>2/20/2019</td>\n",
       "      <td>13:27</td>\n",
       "      <td>Card</td>\n",
       "      <td>59227.2</td>\n",
       "      <td>4.761905</td>\n",
       "      <td>2961.36</td>\n",
       "      <td>5.9</td>\n",
       "    </tr>\n",
       "    <tr>\n",
       "      <th>1</th>\n",
       "      <td>1</td>\n",
       "      <td>351-62-0822</td>\n",
       "      <td>B</td>\n",
       "      <td>Abuja</td>\n",
       "      <td>Member</td>\n",
       "      <td>Female</td>\n",
       "      <td>Fashion accessories</td>\n",
       "      <td>5212.8</td>\n",
       "      <td>4</td>\n",
       "      <td>1042.56</td>\n",
       "      <td>21893.76</td>\n",
       "      <td>02/06/2019</td>\n",
       "      <td>18:07</td>\n",
       "      <td>Epay</td>\n",
       "      <td>20851.2</td>\n",
       "      <td>4.761905</td>\n",
       "      <td>1042.56</td>\n",
       "      <td>4.5</td>\n",
       "    </tr>\n",
       "    <tr>\n",
       "      <th>2</th>\n",
       "      <td>2</td>\n",
       "      <td>529-56-3974</td>\n",
       "      <td>B</td>\n",
       "      <td>Abuja</td>\n",
       "      <td>Member</td>\n",
       "      <td>Male</td>\n",
       "      <td>Electronic accessories</td>\n",
       "      <td>9183.6</td>\n",
       "      <td>4</td>\n",
       "      <td>1836.72</td>\n",
       "      <td>38571.12</td>\n",
       "      <td>03/09/2019</td>\n",
       "      <td>17:03</td>\n",
       "      <td>Cash</td>\n",
       "      <td>36734.4</td>\n",
       "      <td>4.761905</td>\n",
       "      <td>1836.72</td>\n",
       "      <td>6.8</td>\n",
       "    </tr>\n",
       "    <tr>\n",
       "      <th>3</th>\n",
       "      <td>3</td>\n",
       "      <td>299-46-1805</td>\n",
       "      <td>B</td>\n",
       "      <td>Abuja</td>\n",
       "      <td>Member</td>\n",
       "      <td>Female</td>\n",
       "      <td>Sports and travel</td>\n",
       "      <td>33739.2</td>\n",
       "      <td>6</td>\n",
       "      <td>10121.76</td>\n",
       "      <td>212556.96</td>\n",
       "      <td>1/15/2019</td>\n",
       "      <td>16:19</td>\n",
       "      <td>Cash</td>\n",
       "      <td>202435.2</td>\n",
       "      <td>4.761905</td>\n",
       "      <td>10121.76</td>\n",
       "      <td>4.5</td>\n",
       "    </tr>\n",
       "    <tr>\n",
       "      <th>4</th>\n",
       "      <td>4</td>\n",
       "      <td>319-50-3348</td>\n",
       "      <td>B</td>\n",
       "      <td>Abuja</td>\n",
       "      <td>Normal</td>\n",
       "      <td>Female</td>\n",
       "      <td>Home and lifestyle</td>\n",
       "      <td>14508.0</td>\n",
       "      <td>2</td>\n",
       "      <td>1450.80</td>\n",
       "      <td>30466.80</td>\n",
       "      <td>03/11/2019</td>\n",
       "      <td>15:30</td>\n",
       "      <td>Epay</td>\n",
       "      <td>29016.0</td>\n",
       "      <td>4.761905</td>\n",
       "      <td>1450.80</td>\n",
       "      <td>4.4</td>\n",
       "    </tr>\n",
       "  </tbody>\n",
       "</table>\n",
       "</div>"
      ],
      "text/plain": [
       "   Unnamed: 0   Invoice ID Branch   City Customer type  Gender  \\\n",
       "0           0  692-92-5582      B  Abuja        Member  Female   \n",
       "1           1  351-62-0822      B  Abuja        Member  Female   \n",
       "2           2  529-56-3974      B  Abuja        Member    Male   \n",
       "3           3  299-46-1805      B  Abuja        Member  Female   \n",
       "4           4  319-50-3348      B  Abuja        Normal  Female   \n",
       "\n",
       "             Product line  Unit price  Quantity    Tax 5%      Total  \\\n",
       "0      Food and beverages     19742.4         3   2961.36   62188.56   \n",
       "1     Fashion accessories      5212.8         4   1042.56   21893.76   \n",
       "2  Electronic accessories      9183.6         4   1836.72   38571.12   \n",
       "3       Sports and travel     33739.2         6  10121.76  212556.96   \n",
       "4      Home and lifestyle     14508.0         2   1450.80   30466.80   \n",
       "\n",
       "         Date   Time Payment      cogs  gross margin percentage  gross income  \\\n",
       "0   2/20/2019  13:27    Card   59227.2                 4.761905       2961.36   \n",
       "1  02/06/2019  18:07    Epay   20851.2                 4.761905       1042.56   \n",
       "2  03/09/2019  17:03    Cash   36734.4                 4.761905       1836.72   \n",
       "3   1/15/2019  16:19    Cash  202435.2                 4.761905      10121.76   \n",
       "4  03/11/2019  15:30    Epay   29016.0                 4.761905       1450.80   \n",
       "\n",
       "   Rating  \n",
       "0     5.9  \n",
       "1     4.5  \n",
       "2     6.8  \n",
       "3     4.5  \n",
       "4     4.4  "
      ]
     },
     "execution_count": 3,
     "metadata": {},
     "output_type": "execute_result"
    }
   ],
   "source": [
    "all_stores = pd.read_csv('all_Branch.csv')\n",
    "all_stores.head()"
   ]
  },
  {
   "cell_type": "markdown",
   "id": "ab326d52",
   "metadata": {},
   "source": [
    "### 2. Data Exploration"
   ]
  },
  {
   "cell_type": "code",
   "execution_count": 4,
   "id": "26ad2d85",
   "metadata": {},
   "outputs": [
    {
     "data": {
      "text/plain": [
       "(1000, 17)"
      ]
     },
     "execution_count": 4,
     "metadata": {},
     "output_type": "execute_result"
    }
   ],
   "source": [
    "#To check the number of rows and columns present in the combined dataset\n",
    "all_stores_df.shape"
   ]
  },
  {
   "cell_type": "code",
   "execution_count": 5,
   "id": "7a7eef87",
   "metadata": {},
   "outputs": [
    {
     "name": "stdout",
     "output_type": "stream",
     "text": [
      "<class 'pandas.core.frame.DataFrame'>\n",
      "Int64Index: 1000 entries, 0 to 327\n",
      "Data columns (total 17 columns):\n",
      " #   Column                   Non-Null Count  Dtype  \n",
      "---  ------                   --------------  -----  \n",
      " 0   Invoice ID               1000 non-null   object \n",
      " 1   Branch                   1000 non-null   object \n",
      " 2   City                     1000 non-null   object \n",
      " 3   Customer type            1000 non-null   object \n",
      " 4   Gender                   1000 non-null   object \n",
      " 5   Product line             1000 non-null   object \n",
      " 6   Unit price               1000 non-null   float64\n",
      " 7   Quantity                 1000 non-null   int64  \n",
      " 8   Tax 5%                   1000 non-null   float64\n",
      " 9   Total                    1000 non-null   float64\n",
      " 10  Date                     1000 non-null   object \n",
      " 11  Time                     1000 non-null   object \n",
      " 12  Payment                  1000 non-null   object \n",
      " 13  cogs                     1000 non-null   float64\n",
      " 14  gross margin percentage  1000 non-null   float64\n",
      " 15  gross income             1000 non-null   float64\n",
      " 16  Rating                   1000 non-null   float64\n",
      "dtypes: float64(7), int64(1), object(9)\n",
      "memory usage: 140.6+ KB\n"
     ]
    }
   ],
   "source": [
    "#Data Information\n",
    "all_stores_df.info()"
   ]
  },
  {
   "cell_type": "code",
   "execution_count": 6,
   "id": "9fe0faef",
   "metadata": {},
   "outputs": [
    {
     "data": {
      "text/plain": [
       "Invoice ID                 0\n",
       "Branch                     0\n",
       "City                       0\n",
       "Customer type              0\n",
       "Gender                     0\n",
       "Product line               0\n",
       "Unit price                 0\n",
       "Quantity                   0\n",
       "Tax 5%                     0\n",
       "Total                      0\n",
       "Date                       0\n",
       "Time                       0\n",
       "Payment                    0\n",
       "cogs                       0\n",
       "gross margin percentage    0\n",
       "gross income               0\n",
       "Rating                     0\n",
       "dtype: int64"
      ]
     },
     "execution_count": 6,
     "metadata": {},
     "output_type": "execute_result"
    }
   ],
   "source": [
    "# quick overview of the missing data occurence\n",
    "all_stores_df.isnull().sum()"
   ]
  },
  {
   "cell_type": "code",
   "execution_count": 7,
   "id": "a2809441",
   "metadata": {},
   "outputs": [
    {
     "data": {
      "text/html": [
       "<div>\n",
       "<style scoped>\n",
       "    .dataframe tbody tr th:only-of-type {\n",
       "        vertical-align: middle;\n",
       "    }\n",
       "\n",
       "    .dataframe tbody tr th {\n",
       "        vertical-align: top;\n",
       "    }\n",
       "\n",
       "    .dataframe thead th {\n",
       "        text-align: right;\n",
       "    }\n",
       "</style>\n",
       "<table border=\"1\" class=\"dataframe\">\n",
       "  <thead>\n",
       "    <tr style=\"text-align: right;\">\n",
       "      <th></th>\n",
       "      <th>Unit price</th>\n",
       "      <th>Quantity</th>\n",
       "      <th>Tax 5%</th>\n",
       "      <th>Total</th>\n",
       "      <th>cogs</th>\n",
       "      <th>gross margin percentage</th>\n",
       "      <th>gross income</th>\n",
       "      <th>Rating</th>\n",
       "    </tr>\n",
       "  </thead>\n",
       "  <tbody>\n",
       "    <tr>\n",
       "      <th>count</th>\n",
       "      <td>1000.000000</td>\n",
       "      <td>1000.000000</td>\n",
       "      <td>1000.000000</td>\n",
       "      <td>1000.000000</td>\n",
       "      <td>1000.000000</td>\n",
       "      <td>1.000000e+03</td>\n",
       "      <td>1000.000000</td>\n",
       "      <td>1000.00000</td>\n",
       "    </tr>\n",
       "    <tr>\n",
       "      <th>mean</th>\n",
       "      <td>20041.966800</td>\n",
       "      <td>5.510000</td>\n",
       "      <td>5536.572840</td>\n",
       "      <td>116268.029640</td>\n",
       "      <td>110731.456800</td>\n",
       "      <td>4.761905e+00</td>\n",
       "      <td>5536.572840</td>\n",
       "      <td>6.97270</td>\n",
       "    </tr>\n",
       "    <tr>\n",
       "      <th>std</th>\n",
       "      <td>9538.066205</td>\n",
       "      <td>2.923431</td>\n",
       "      <td>4215.177173</td>\n",
       "      <td>88518.720636</td>\n",
       "      <td>84303.543463</td>\n",
       "      <td>6.131498e-14</td>\n",
       "      <td>4215.177173</td>\n",
       "      <td>1.71858</td>\n",
       "    </tr>\n",
       "    <tr>\n",
       "      <th>min</th>\n",
       "      <td>3628.800000</td>\n",
       "      <td>1.000000</td>\n",
       "      <td>183.060000</td>\n",
       "      <td>3844.260000</td>\n",
       "      <td>3661.200000</td>\n",
       "      <td>4.761905e+00</td>\n",
       "      <td>183.060000</td>\n",
       "      <td>4.00000</td>\n",
       "    </tr>\n",
       "    <tr>\n",
       "      <th>25%</th>\n",
       "      <td>11835.000000</td>\n",
       "      <td>3.000000</td>\n",
       "      <td>2132.955000</td>\n",
       "      <td>44792.055000</td>\n",
       "      <td>42659.100000</td>\n",
       "      <td>4.761905e+00</td>\n",
       "      <td>2132.955000</td>\n",
       "      <td>5.50000</td>\n",
       "    </tr>\n",
       "    <tr>\n",
       "      <th>50%</th>\n",
       "      <td>19882.800000</td>\n",
       "      <td>5.000000</td>\n",
       "      <td>4351.680000</td>\n",
       "      <td>91385.280000</td>\n",
       "      <td>87033.600000</td>\n",
       "      <td>4.761905e+00</td>\n",
       "      <td>4351.680000</td>\n",
       "      <td>7.00000</td>\n",
       "    </tr>\n",
       "    <tr>\n",
       "      <th>75%</th>\n",
       "      <td>28056.600000</td>\n",
       "      <td>8.000000</td>\n",
       "      <td>8080.290000</td>\n",
       "      <td>169686.090000</td>\n",
       "      <td>161605.800000</td>\n",
       "      <td>4.761905e+00</td>\n",
       "      <td>8080.290000</td>\n",
       "      <td>8.50000</td>\n",
       "    </tr>\n",
       "    <tr>\n",
       "      <th>max</th>\n",
       "      <td>35985.600000</td>\n",
       "      <td>10.000000</td>\n",
       "      <td>17874.000000</td>\n",
       "      <td>375354.000000</td>\n",
       "      <td>357480.000000</td>\n",
       "      <td>4.761905e+00</td>\n",
       "      <td>17874.000000</td>\n",
       "      <td>10.00000</td>\n",
       "    </tr>\n",
       "  </tbody>\n",
       "</table>\n",
       "</div>"
      ],
      "text/plain": [
       "         Unit price     Quantity        Tax 5%          Total           cogs  \\\n",
       "count   1000.000000  1000.000000   1000.000000    1000.000000    1000.000000   \n",
       "mean   20041.966800     5.510000   5536.572840  116268.029640  110731.456800   \n",
       "std     9538.066205     2.923431   4215.177173   88518.720636   84303.543463   \n",
       "min     3628.800000     1.000000    183.060000    3844.260000    3661.200000   \n",
       "25%    11835.000000     3.000000   2132.955000   44792.055000   42659.100000   \n",
       "50%    19882.800000     5.000000   4351.680000   91385.280000   87033.600000   \n",
       "75%    28056.600000     8.000000   8080.290000  169686.090000  161605.800000   \n",
       "max    35985.600000    10.000000  17874.000000  375354.000000  357480.000000   \n",
       "\n",
       "       gross margin percentage  gross income      Rating  \n",
       "count             1.000000e+03   1000.000000  1000.00000  \n",
       "mean              4.761905e+00   5536.572840     6.97270  \n",
       "std               6.131498e-14   4215.177173     1.71858  \n",
       "min               4.761905e+00    183.060000     4.00000  \n",
       "25%               4.761905e+00   2132.955000     5.50000  \n",
       "50%               4.761905e+00   4351.680000     7.00000  \n",
       "75%               4.761905e+00   8080.290000     8.50000  \n",
       "max               4.761905e+00  17874.000000    10.00000  "
      ]
     },
     "execution_count": 7,
     "metadata": {},
     "output_type": "execute_result"
    }
   ],
   "source": [
    "#data statistical summary \n",
    "all_stores_df.describe()"
   ]
  },
  {
   "cell_type": "markdown",
   "id": "d422dd81",
   "metadata": {},
   "source": [
    " #### Data Statistical Summary \n",
    "  - The statistical summary of the data provides us with several insights into the distribution of the data points within each column. For instance, the average unit price is 20,041.97 with a minimum value of 3628.80 and a maximum value of 35,985.60. The standard deviation of the unit price is 9,538.07, which indicates that the data points are dispersed from the mean. The quartile values of the unit price show that 25% of the transactions had a unit price of less than 11,835.00, 50% of the transactions had a unit price of less than 19,882.80, and 75% of the transactions had a unit price of less than 28,056.60.\n",
    "\n",
    "- The statistical summary also reveals that the average quantity sold per transaction is 5.51, with a minimum of 1 and a maximum of 10. The standard deviation of the quantity sold is 2.92, indicating that the quantity sold varied significantly across transactions. The quartile values show that 25% of transactions involved selling less than 3 units, 50% of transactions involved selling less than 5 units, and 75% of transactions involved selling less than 8 units.\n",
    "\n",
    "- Furthermore, the average tax charged on each transaction is 5,536.57, which is 5% of the total cost of goods sold (cogs). The standard deviation of the tax charged is 4,215.18, indicating that the tax charged varied across transactions. The quartile values show that 25% of transactions had a tax charged of less than 2,132.96, 50% of transactions had a tax charged of less than 4,351.68, and 75% of transactions had a tax charged of less than 8,080.29.\n",
    "\n",
    "- The average gross margin percentage is 4.76%, with a standard deviation of 6.19x10^-14, indicating that the gross margin percentage was relatively consistent across transactions. The quartile values show that 25% of transactions had a gross margin percentage of less than 4.76%, 50% of transactions had a gross margin percentage of less than 4.76%, and 75% of transactions had a gross margin percentage of less than 4.76%.\n",
    "\n",
    "- The average gross income per transaction is 5,536.57, which is the total revenue minus the cost of goods sold. The standard deviation of the gross income is 4,215.18, indicating that the gross income varied across transactions. The quartile values show that 25% of transactions had a gross income of less than 2,132.96, 50% of transactions had a gross income of less than 4,351.68, and 75% of transactions had a gross income of less than 8,080.29.\n",
    "\n",
    "- Finally, the rating column shows that the minimum rating is 4.0, the maximum rating is 10.0, and the average rating is 6.97. This indicates that the products/services offered received a range of ratings from customers."
   ]
  },
  {
   "cell_type": "markdown",
   "id": "e19797cc",
   "metadata": {},
   "source": [
    "## 3. DateTime Features\n",
    "\n",
    "From the summary above, date and time columns are not in the appropriate data type. this need to be converted to datetime datatype using the to_datetime() method."
   ]
  },
  {
   "cell_type": "code",
   "execution_count": 8,
   "id": "5b413425",
   "metadata": {},
   "outputs": [],
   "source": [
    "all_stores_df['Date'] = pd.to_datetime(all_stores_df['Date'])\n",
    "all_stores_df['Time'] = pd.to_datetime(all_stores_df['Time'])\n"
   ]
  },
  {
   "cell_type": "code",
   "execution_count": 9,
   "id": "5ec85f74",
   "metadata": {},
   "outputs": [
    {
     "name": "stdout",
     "output_type": "stream",
     "text": [
      "datetime64[ns]\n",
      "datetime64[ns]\n"
     ]
    }
   ],
   "source": [
    "print(all_stores_df['Date'].dtype)\n",
    "print(all_stores_df['Time'].dtype)\n"
   ]
  },
  {
   "cell_type": "markdown",
   "id": "16030382",
   "metadata": {},
   "source": [
    "#### Extracting Features from date & time\n"
   ]
  },
  {
   "cell_type": "code",
   "execution_count": 10,
   "id": "1f4c6dc9",
   "metadata": {},
   "outputs": [],
   "source": [
    "#Extract the Day feature from the Date column\n",
    "all_stores_df['Day'] = all_stores_df['Date'].dt.day\n"
   ]
  },
  {
   "cell_type": "code",
   "execution_count": 11,
   "id": "e631fa8c",
   "metadata": {},
   "outputs": [],
   "source": [
    "#Extract the month feature from the Date column\n",
    "all_stores_df['Month'] = all_stores_df['Date'].dt.month"
   ]
  },
  {
   "cell_type": "code",
   "execution_count": 12,
   "id": "55a68fc0",
   "metadata": {},
   "outputs": [
    {
     "data": {
      "text/plain": [
       "(1000, 19)"
      ]
     },
     "execution_count": 12,
     "metadata": {},
     "output_type": "execute_result"
    }
   ],
   "source": [
    "all_stores_df.shape"
   ]
  },
  {
   "cell_type": "markdown",
   "id": "36e12fa1",
   "metadata": {},
   "source": [
    "### 4. Unique Values in Columns"
   ]
  },
  {
   "cell_type": "code",
   "execution_count": 13,
   "id": "64ce3ca0",
   "metadata": {},
   "outputs": [
    {
     "data": {
      "text/plain": [
       "['Invoice ID',\n",
       " 'Branch',\n",
       " 'City',\n",
       " 'Customer type',\n",
       " 'Gender',\n",
       " 'Product line',\n",
       " 'Payment']"
      ]
     },
     "execution_count": 13,
     "metadata": {},
     "output_type": "execute_result"
    }
   ],
   "source": [
    "# Creating a list of the categorical column in the dataset. \n",
    "#Iterate through the columns and check if each element is an object datatype. \n",
    "#The result is saved to the \"categorical_columns\" variable as a list.\n",
    "\n",
    "\n",
    "categorical_columns = [col for col in all_stores_df.columns if all_stores_df[col].dtype == \"object\" ]\n",
    "categorical_columns"
   ]
  },
  {
   "cell_type": "code",
   "execution_count": 14,
   "id": "2cf6c85e",
   "metadata": {
    "scrolled": true
   },
   "outputs": [
    {
     "name": "stdout",
     "output_type": "stream",
     "text": [
      "Total Number of unique values in the Invoice ID Column : 1000\n",
      "\n",
      "\n",
      "Total Number of unique values in the Branch Column : 3\n",
      "\n",
      "\n",
      "Total Number of unique values in the City Column : 3\n",
      "\n",
      "\n",
      "Total Number of unique values in the Customer type Column : 2\n",
      "\n",
      "\n",
      "Total Number of unique values in the Gender Column : 2\n",
      "\n",
      "\n",
      "Total Number of unique values in the Product line Column : 6\n",
      "\n",
      "\n",
      "Total Number of unique values in the Payment Column : 3\n",
      "\n",
      "\n"
     ]
    }
   ],
   "source": [
    "#generating  the total number of unique values in the categorical columns \n",
    "for col in categorical_columns:\n",
    "    print(\"Total Number of unique values in the {} Column : {}\". format(col, len(all_stores_df[col].unique().tolist())))\n",
    "    print('\\n')\n"
   ]
  },
  {
   "cell_type": "code",
   "execution_count": 15,
   "id": "7e1fe7bc",
   "metadata": {
    "scrolled": true
   },
   "outputs": [
    {
     "name": "stdout",
     "output_type": "stream",
     "text": [
      "Value counts in the Invoice ID Column : 692-92-5582    1\n",
      "849-09-3807    1\n",
      "324-92-3863    1\n",
      "593-08-5916    1\n",
      "558-60-5016    1\n",
      "              ..\n",
      "365-64-0515    1\n",
      "252-56-2699    1\n",
      "829-34-3910    1\n",
      "656-95-9349    1\n",
      "233-67-5758    1\n",
      "Name: Invoice ID, Length: 1000, dtype: int64\n",
      "\n",
      "\n",
      "Value counts in the Branch Column : A    340\n",
      "B    332\n",
      "C    328\n",
      "Name: Branch, dtype: int64\n",
      "\n",
      "\n",
      "Value counts in the City Column : Lagos            340\n",
      "Abuja            332\n",
      "Port Harcourt    328\n",
      "Name: City, dtype: int64\n",
      "\n",
      "\n",
      "Value counts in the Customer type Column : Member    501\n",
      "Normal    499\n",
      "Name: Customer type, dtype: int64\n",
      "\n",
      "\n",
      "Value counts in the Gender Column : Female    501\n",
      "Male      499\n",
      "Name: Gender, dtype: int64\n",
      "\n",
      "\n",
      "Value counts in the Product line Column : Fashion accessories       178\n",
      "Food and beverages        174\n",
      "Electronic accessories    170\n",
      "Sports and travel         166\n",
      "Home and lifestyle        160\n",
      "Health and beauty         152\n",
      "Name: Product line, dtype: int64\n",
      "\n",
      "\n",
      "Value counts in the Payment Column : Epay    345\n",
      "Cash    344\n",
      "Card    311\n",
      "Name: Payment, dtype: int64\n",
      "\n",
      "\n"
     ]
    }
   ],
   "source": [
    "# Generating the \n",
    "for col in categorical_columns:\n",
    "    print(\"Value counts in the {} Column : {}\". format(col, all_stores_df[col].value_counts()))\n",
    "    print('\\n')"
   ]
  },
  {
   "cell_type": "markdown",
   "id": "b71125e1",
   "metadata": {},
   "source": [
    "### 5.  Aggregration of the Cities, Month and Product line"
   ]
  },
  {
   "cell_type": "code",
   "execution_count": 16,
   "id": "a0931efa",
   "metadata": {},
   "outputs": [],
   "source": [
    "df_sum = all_stores_df.groupby(by='City').sum()\n",
    "df_mean = all_stores_df.groupby(by='City').mean()\n"
   ]
  },
  {
   "cell_type": "code",
   "execution_count": 18,
   "id": "cb851684",
   "metadata": {},
   "outputs": [
    {
     "data": {
      "text/html": [
       "<div>\n",
       "<style scoped>\n",
       "    .dataframe tbody tr th:only-of-type {\n",
       "        vertical-align: middle;\n",
       "    }\n",
       "\n",
       "    .dataframe tbody tr th {\n",
       "        vertical-align: top;\n",
       "    }\n",
       "\n",
       "    .dataframe thead th {\n",
       "        text-align: right;\n",
       "    }\n",
       "</style>\n",
       "<table border=\"1\" class=\"dataframe\">\n",
       "  <thead>\n",
       "    <tr style=\"text-align: right;\">\n",
       "      <th></th>\n",
       "      <th>Total</th>\n",
       "    </tr>\n",
       "    <tr>\n",
       "      <th>City</th>\n",
       "      <th></th>\n",
       "    </tr>\n",
       "  </thead>\n",
       "  <tbody>\n",
       "    <tr>\n",
       "      <th>Abuja</th>\n",
       "      <td>38231161.92</td>\n",
       "    </tr>\n",
       "    <tr>\n",
       "      <th>Lagos</th>\n",
       "      <td>38232133.38</td>\n",
       "    </tr>\n",
       "    <tr>\n",
       "      <th>Port Harcourt</th>\n",
       "      <td>39804734.34</td>\n",
       "    </tr>\n",
       "  </tbody>\n",
       "</table>\n",
       "</div>"
      ],
      "text/plain": [
       "                     Total\n",
       "City                      \n",
       "Abuja          38231161.92\n",
       "Lagos          38232133.38\n",
       "Port Harcourt  39804734.34"
      ]
     },
     "execution_count": 18,
     "metadata": {},
     "output_type": "execute_result"
    }
   ],
   "source": [
    "# To show the total across the three branches\n",
    "df_sum[['Total']]\n"
   ]
  },
  {
   "cell_type": "markdown",
   "id": "593ae303",
   "metadata": {},
   "source": [
    "It appears that Port Harcourt has the highest total sales compared to the other two cities. "
   ]
  },
  {
   "cell_type": "code",
   "execution_count": 38,
   "id": "2c2c0cc2",
   "metadata": {},
   "outputs": [
    {
     "data": {
      "text/html": [
       "<div>\n",
       "<style scoped>\n",
       "    .dataframe tbody tr th:only-of-type {\n",
       "        vertical-align: middle;\n",
       "    }\n",
       "\n",
       "    .dataframe tbody tr th {\n",
       "        vertical-align: top;\n",
       "    }\n",
       "\n",
       "    .dataframe thead th {\n",
       "        text-align: right;\n",
       "    }\n",
       "</style>\n",
       "<table border=\"1\" class=\"dataframe\">\n",
       "  <thead>\n",
       "    <tr style=\"text-align: right;\">\n",
       "      <th></th>\n",
       "      <th>Total</th>\n",
       "    </tr>\n",
       "    <tr>\n",
       "      <th>Month</th>\n",
       "      <th></th>\n",
       "    </tr>\n",
       "  </thead>\n",
       "  <tbody>\n",
       "    <tr>\n",
       "      <th>1</th>\n",
       "      <td>41865072.48</td>\n",
       "    </tr>\n",
       "    <tr>\n",
       "      <th>2</th>\n",
       "      <td>34998974.64</td>\n",
       "    </tr>\n",
       "    <tr>\n",
       "      <th>3</th>\n",
       "      <td>39403982.52</td>\n",
       "    </tr>\n",
       "  </tbody>\n",
       "</table>\n",
       "</div>"
      ],
      "text/plain": [
       "             Total\n",
       "Month             \n",
       "1      41865072.48\n",
       "2      34998974.64\n",
       "3      39403982.52"
      ]
     },
     "execution_count": 38,
     "metadata": {},
     "output_type": "execute_result"
    }
   ],
   "source": [
    "df_month = all_stores_df.groupby(by='Month').sum()\n",
    "df_month[['Total']]"
   ]
  },
  {
   "cell_type": "markdown",
   "id": "3942ad63",
   "metadata": {},
   "source": [
    "January has the highest total sales "
   ]
  },
  {
   "cell_type": "code",
   "execution_count": 19,
   "id": "5d8e9644",
   "metadata": {},
   "outputs": [
    {
     "data": {
      "text/html": [
       "<div>\n",
       "<style scoped>\n",
       "    .dataframe tbody tr th:only-of-type {\n",
       "        vertical-align: middle;\n",
       "    }\n",
       "\n",
       "    .dataframe tbody tr th {\n",
       "        vertical-align: top;\n",
       "    }\n",
       "\n",
       "    .dataframe thead th {\n",
       "        text-align: right;\n",
       "    }\n",
       "</style>\n",
       "<table border=\"1\" class=\"dataframe\">\n",
       "  <thead>\n",
       "    <tr style=\"text-align: right;\">\n",
       "      <th></th>\n",
       "      <th>Unit price</th>\n",
       "      <th>Quantity</th>\n",
       "      <th>Tax 5%</th>\n",
       "      <th>Total</th>\n",
       "      <th>cogs</th>\n",
       "      <th>gross margin percentage</th>\n",
       "      <th>gross income</th>\n",
       "      <th>Rating</th>\n",
       "      <th>Day</th>\n",
       "      <th>Month</th>\n",
       "    </tr>\n",
       "    <tr>\n",
       "      <th>Product line</th>\n",
       "      <th></th>\n",
       "      <th></th>\n",
       "      <th></th>\n",
       "      <th></th>\n",
       "      <th></th>\n",
       "      <th></th>\n",
       "      <th></th>\n",
       "      <th></th>\n",
       "      <th></th>\n",
       "      <th></th>\n",
       "    </tr>\n",
       "  </thead>\n",
       "  <tbody>\n",
       "    <tr>\n",
       "      <th>Electronic accessories</th>\n",
       "      <td>3277357.2</td>\n",
       "      <td>971</td>\n",
       "      <td>931500.54</td>\n",
       "      <td>19561511.34</td>\n",
       "      <td>18630010.8</td>\n",
       "      <td>809.523810</td>\n",
       "      <td>931500.54</td>\n",
       "      <td>1177.2</td>\n",
       "      <td>2759</td>\n",
       "      <td>348</td>\n",
       "    </tr>\n",
       "    <tr>\n",
       "      <th>Fashion accessories</th>\n",
       "      <td>3662406.0</td>\n",
       "      <td>902</td>\n",
       "      <td>930958.20</td>\n",
       "      <td>19550122.20</td>\n",
       "      <td>18619164.0</td>\n",
       "      <td>847.619048</td>\n",
       "      <td>930958.20</td>\n",
       "      <td>1251.2</td>\n",
       "      <td>2717</td>\n",
       "      <td>346</td>\n",
       "    </tr>\n",
       "    <tr>\n",
       "      <th>Food and beverages</th>\n",
       "      <td>3508394.4</td>\n",
       "      <td>952</td>\n",
       "      <td>962483.04</td>\n",
       "      <td>20212143.84</td>\n",
       "      <td>19249660.8</td>\n",
       "      <td>828.571429</td>\n",
       "      <td>962483.04</td>\n",
       "      <td>1237.7</td>\n",
       "      <td>2645</td>\n",
       "      <td>348</td>\n",
       "    </tr>\n",
       "    <tr>\n",
       "      <th>Health and beauty</th>\n",
       "      <td>3001636.8</td>\n",
       "      <td>854</td>\n",
       "      <td>843321.24</td>\n",
       "      <td>17709746.04</td>\n",
       "      <td>16866424.8</td>\n",
       "      <td>723.809524</td>\n",
       "      <td>843321.24</td>\n",
       "      <td>1064.5</td>\n",
       "      <td>2373</td>\n",
       "      <td>312</td>\n",
       "    </tr>\n",
       "    <tr>\n",
       "      <th>Home and lifestyle</th>\n",
       "      <td>3186255.6</td>\n",
       "      <td>911</td>\n",
       "      <td>923347.08</td>\n",
       "      <td>19390288.68</td>\n",
       "      <td>18466941.6</td>\n",
       "      <td>761.904762</td>\n",
       "      <td>923347.08</td>\n",
       "      <td>1094.0</td>\n",
       "      <td>2287</td>\n",
       "      <td>324</td>\n",
       "    </tr>\n",
       "    <tr>\n",
       "      <th>Sports and travel</th>\n",
       "      <td>3405916.8</td>\n",
       "      <td>920</td>\n",
       "      <td>944962.74</td>\n",
       "      <td>19844217.54</td>\n",
       "      <td>18899254.8</td>\n",
       "      <td>790.476190</td>\n",
       "      <td>944962.74</td>\n",
       "      <td>1148.1</td>\n",
       "      <td>2475</td>\n",
       "      <td>315</td>\n",
       "    </tr>\n",
       "  </tbody>\n",
       "</table>\n",
       "</div>"
      ],
      "text/plain": [
       "                        Unit price  Quantity     Tax 5%        Total  \\\n",
       "Product line                                                           \n",
       "Electronic accessories   3277357.2       971  931500.54  19561511.34   \n",
       "Fashion accessories      3662406.0       902  930958.20  19550122.20   \n",
       "Food and beverages       3508394.4       952  962483.04  20212143.84   \n",
       "Health and beauty        3001636.8       854  843321.24  17709746.04   \n",
       "Home and lifestyle       3186255.6       911  923347.08  19390288.68   \n",
       "Sports and travel        3405916.8       920  944962.74  19844217.54   \n",
       "\n",
       "                              cogs  gross margin percentage  gross income  \\\n",
       "Product line                                                                \n",
       "Electronic accessories  18630010.8               809.523810     931500.54   \n",
       "Fashion accessories     18619164.0               847.619048     930958.20   \n",
       "Food and beverages      19249660.8               828.571429     962483.04   \n",
       "Health and beauty       16866424.8               723.809524     843321.24   \n",
       "Home and lifestyle      18466941.6               761.904762     923347.08   \n",
       "Sports and travel       18899254.8               790.476190     944962.74   \n",
       "\n",
       "                        Rating   Day  Month  \n",
       "Product line                                 \n",
       "Electronic accessories  1177.2  2759    348  \n",
       "Fashion accessories     1251.2  2717    346  \n",
       "Food and beverages      1237.7  2645    348  \n",
       "Health and beauty       1064.5  2373    312  \n",
       "Home and lifestyle      1094.0  2287    324  \n",
       "Sports and travel       1148.1  2475    315  "
      ]
     },
     "execution_count": 19,
     "metadata": {},
     "output_type": "execute_result"
    }
   ],
   "source": [
    "all_stores_df.groupby(by='Product line').sum()"
   ]
  },
  {
   "cell_type": "markdown",
   "id": "da3f8cab",
   "metadata": {},
   "source": [
    " - The data reveals that the product line with the highest total sales is Food and Beverages, followed closely by Electronic Accessories and Fashion Accessories. Health and Beauty has the lowest total sales, indicating a potential opportunity to increase sales in that product line. Additionally, all product lines have a gross margin percentage above 70%, suggesting that the business is profitable."
   ]
  },
  {
   "cell_type": "markdown",
   "id": "671c89d2",
   "metadata": {},
   "source": [
    "### 6. Data Visualization"
   ]
  },
  {
   "cell_type": "code",
   "execution_count": 20,
   "id": "962cdd15",
   "metadata": {},
   "outputs": [
    {
     "data": {
      "text/plain": [
       "Text(0.5, 1.0, 'Most sold product line')"
      ]
     },
     "execution_count": 20,
     "metadata": {},
     "output_type": "execute_result"
    },
    {
     "data": {
      "image/png": "[encoded data removed]",
      "text/plain": [
       "<Figure size 770.4x379.44 with 1 Axes>"
      ]
     },
     "metadata": {
      "needs_background": "light"
     },
     "output_type": "display_data"
    }
   ],
   "source": [
    "#Visualize the Counts\n",
    "\n",
    "sb.countplot(y='Product line', data=all_stores_df).set_title('Most sold product line')\n"
   ]
  },
  {
   "cell_type": "code",
   "execution_count": 21,
   "id": "696ba435",
   "metadata": {},
   "outputs": [
    {
     "data": {
      "text/plain": [
       "Text(0.5, 1.0, 'Most used payment method')"
      ]
     },
     "execution_count": 21,
     "metadata": {},
     "output_type": "execute_result"
    },
    {
     "data": {
      "image/png": "[encoded data removed]",
      "text/plain": [
       "<Figure size 770.4x379.44 with 1 Axes>"
      ]
     },
     "metadata": {
      "needs_background": "light"
     },
     "output_type": "display_data"
    }
   ],
   "source": [
    "sb.countplot(x='Payment', data = all_stores_df).set_title('Most used payment method')\n"
   ]
  },
  {
   "cell_type": "code",
   "execution_count": 22,
   "id": "d8bd517e",
   "metadata": {
    "scrolled": true
   },
   "outputs": [
    {
     "data": {
      "image/png": "[encoded data removed]",
      "text/plain": [
       "<Figure size 432x432 with 1 Axes>"
      ]
     },
     "metadata": {},
     "output_type": "display_data"
    }
   ],
   "source": [
    "labels = all_stores_df[\"Gender\"].value_counts().index\n",
    "sizes = all_stores_df[\"Gender\"].value_counts()\n",
    "colors = ['blue','green'] \n",
    "plt.figure(figsize = (6,6))\n",
    "plt.pie(sizes, labels=labels, rotatelabels=False, autopct='%1.1f%%',colors=colors,shadow=True, startangle=90)\n",
    "plt.title('Gender',color = 'green',fontsize = 15)\n",
    "plt.show()"
   ]
  },
  {
   "cell_type": "code",
   "execution_count": 37,
   "id": "864c2c94",
   "metadata": {},
   "outputs": [
    {
     "data": {
      "text/plain": [
       "Text(0.5, 1.0, 'Branch with highest Total sales from Jan-March')"
      ]
     },
     "execution_count": 37,
     "metadata": {},
     "output_type": "execute_result"
    },
    {
     "data": {
      "image/png": "[encoded data removed]",
      "text/plain": [
       "<Figure size 770.4x379.44 with 1 Axes>"
      ]
     },
     "metadata": {
      "needs_background": "light"
     },
     "output_type": "display_data"
    }
   ],
   "source": [
    "sb.barplot(x='Month',y='Total',hue='City', data=all_stores_df).set_title('Branch with highest Total sales from Jan-March')"
   ]
  },
  {
   "cell_type": "code",
   "execution_count": 23,
   "id": "27cabcca",
   "metadata": {},
   "outputs": [
    {
     "data": {
      "text/plain": [
       "Text(0.5, 1.0, 'Branch with highest Total sales')"
      ]
     },
     "execution_count": 23,
     "metadata": {},
     "output_type": "execute_result"
    },
    {
     "data": {
      "image/png": "[encoded data removed]",
      "text/plain": [
       "<Figure size 770.4x379.44 with 1 Axes>"
      ]
     },
     "metadata": {
      "needs_background": "light"
     },
     "output_type": "display_data"
    }
   ],
   "source": [
    "sb.barplot(x='City',y='Total', data=all_stores_df).set_title('Branch with highest Total sales')"
   ]
  },
  {
   "cell_type": "code",
   "execution_count": 24,
   "id": "b730c706",
   "metadata": {},
   "outputs": [
    {
     "data": {
      "text/plain": [
       "Text(0.5, 1.0, 'Payment Channel per Branch')"
      ]
     },
     "execution_count": 24,
     "metadata": {},
     "output_type": "execute_result"
    },
    {
     "data": {
      "image/png": "[encoded data removed]",
      "text/plain": [
       "<Figure size 770.4x379.44 with 1 Axes>"
      ]
     },
     "metadata": {
      "needs_background": "light"
     },
     "output_type": "display_data"
    }
   ],
   "source": [
    "sb.countplot(x='Payment', data=all_stores_df, hue='City').set_title('Payment Channel per Branch')\n"
   ]
  },
  {
   "cell_type": "code",
   "execution_count": 25,
   "id": "2b998094",
   "metadata": {},
   "outputs": [
    {
     "data": {
      "text/plain": [
       "Text(0.5, 1.0, 'Customer type sales record')"
      ]
     },
     "execution_count": 25,
     "metadata": {},
     "output_type": "execute_result"
    },
    {
     "data": {
      "image/png": "[encoded data removed]",
      "text/plain": [
       "<Figure size 770.4x379.44 with 1 Axes>"
      ]
     },
     "metadata": {
      "needs_background": "light"
     },
     "output_type": "display_data"
    }
   ],
   "source": [
    "sb.countplot(x='Customer type', data=all_stores_df, hue='Branch').set_title('Customer type sales record')\n"
   ]
  },
  {
   "cell_type": "code",
   "execution_count": 27,
   "id": "60b48817",
   "metadata": {},
   "outputs": [
    {
     "data": {
      "text/plain": [
       "Text(0.5, 1.0, 'Branch rating')"
      ]
     },
     "execution_count": 27,
     "metadata": {},
     "output_type": "execute_result"
    },
    {
     "data": {
      "image/png": "[encoded data removed]",
      "text/plain": [
       "<Figure size 770.4x379.44 with 1 Axes>"
      ]
     },
     "metadata": {
      "needs_background": "light"
     },
     "output_type": "display_data"
    }
   ],
   "source": [
    "sb.boxplot(x='Branch', y='Rating', data=all_stores_df).set_title('Branch rating')\n"
   ]
  },
  {
   "cell_type": "code",
   "execution_count": 28,
   "id": "e8a833fc",
   "metadata": {
    "scrolled": true
   },
   "outputs": [
    {
     "data": {
      "text/plain": [
       "<seaborn.axisgrid.FacetGrid at 0x1dce1c2f760>"
      ]
     },
     "execution_count": 28,
     "metadata": {},
     "output_type": "execute_result"
    },
    {
     "data": {
      "image/png": "[encoded data removed]",
      "text/plain": [
       "<Figure size 1224.12x288 with 1 Axes>"
      ]
     },
     "metadata": {
      "needs_background": "light"
     },
     "output_type": "display_data"
    }
   ],
   "source": [
    "sb.catplot(x='Product line', y='Quantity', hue='Gender', data=all_stores_df, aspect=4, height=4)\n"
   ]
  },
  {
   "cell_type": "code",
   "execution_count": 29,
   "id": "b0f466ca",
   "metadata": {},
   "outputs": [
    {
     "data": {
      "text/plain": [
       "<seaborn.axisgrid.FacetGrid at 0x1dce9679f70>"
      ]
     },
     "execution_count": 29,
     "metadata": {},
     "output_type": "execute_result"
    },
    {
     "data": {
      "image/png": "[encoded data removed]",
      "text/plain": [
       "<Figure size 1440x360 with 1 Axes>"
      ]
     },
     "metadata": {
      "needs_background": "light"
     },
     "output_type": "display_data"
    }
   ],
   "source": [
    "sb.catplot(y='Unit price', x='Product line', data=all_stores_df, kind='point', aspect=4)"
   ]
  },
  {
   "cell_type": "code",
   "execution_count": 30,
   "id": "d57e5e61",
   "metadata": {},
   "outputs": [
    {
     "data": {
      "text/plain": [
       "<seaborn.axisgrid.FacetGrid at 0x1dce7bc9100>"
      ]
     },
     "execution_count": 30,
     "metadata": {},
     "output_type": "execute_result"
    },
    {
     "data": {
      "image/png": "[encoded data removed]",
      "text/plain": [
       "<Figure size 1440x360 with 1 Axes>"
      ]
     },
     "metadata": {
      "needs_background": "light"
     },
     "output_type": "display_data"
    }
   ],
   "source": [
    "sb.catplot(y='Quantity', x='Product line', data=all_stores_df, kind='point', aspect=4)\n"
   ]
  }
 ],
 "metadata": {
  "kernelspec": {
   "display_name": "Python 3 (ipykernel)",
   "language": "python",
   "name": "python3"
  },
  "language_info": {
   "codemirror_mode": {
    "name": "ipython",
    "version": 3
   },
   "file_extension": ".py",
   "mimetype": "text/x-python",
   "name": "python",
   "nbconvert_exporter": "python",
   "pygments_lexer": "ipython3",
   "version": "3.9.12"
  }
 },
 "nbformat": 4,
 "nbformat_minor": 5
}
